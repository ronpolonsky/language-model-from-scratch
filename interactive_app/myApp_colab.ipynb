{
  "nbformat": 4,
  "nbformat_minor": 0,
  "metadata": {
    "colab": {
      "provenance": [],
      "authorship_tag": "ABX9TyN9t7//5tw2bvIEd8QkQu6c",
      "include_colab_link": true
    },
    "kernelspec": {
      "name": "python3",
      "display_name": "Python 3"
    },
    "language_info": {
      "name": "python"
    }
  },
  "cells": [
    {
      "cell_type": "markdown",
      "metadata": {
        "id": "view-in-github",
        "colab_type": "text"
      },
      "source": [
        "<a href=\"https://colab.research.google.com/github/ronpolonsky/language-model-from-scratch/blob/main/interactive_app/myApp_colab.ipynb\" target=\"_parent\"><img src=\"https://colab.research.google.com/assets/colab-badge.svg\" alt=\"Open In Colab\"/></a>"
      ]
    },
    {
      "cell_type": "code",
      "execution_count": null,
      "metadata": {
        "id": "AxJQfHuc-n9Y"
      },
      "outputs": [],
      "source": [
        "# Repo + LFS\n",
        "!apt-get -qq update >/dev/null 2>&1\n",
        "!apt-get -qq install -y git-lfs >/dev/null 2>&1\n",
        "!git clone -q https://github.com/ronpolonsky/language-model-from-scratch.git >/dev/null 2>&1 || true\n",
        "%cd language-model-from-scratch\n",
        "!git lfs install >/dev/null 2>&1 && git lfs pull >/dev/null 2>&1\n",
        "\n",
        "# Pin a compatible combo: NumPy 2.x + Torch 2.6.0 (CPU)\n",
        "!pip -q uninstall -y torch torchvision torchaudio numpy >/dev/null 2>&1 || true\n",
        "!pip -q install \"numpy>=2.0.0,<3.0.0\" --force-reinstall --no-cache-dir >/dev/null 2>&1\n",
        "!pip -q install torch==2.6.0 --index-url https://download.pytorch.org/whl/cpu >/dev/null 2>&1\n",
        "\n",
        "\n",
        "!sed -i '/^numpy[>=<~]/d; /^torch[>=<~]/d' interactive_app/requirements.txt >/dev/null 2>&1 || true\n",
        "!pip -q install -r interactive_app/requirements.txt ipywidgets >/dev/null 2>&1\n",
        "\n",
        "# Inline UI (ipywidgets)\n",
        "import warnings\n",
        "warnings.filterwarnings(\"ignore\")\n",
        "\n",
        "import ipywidgets as w\n",
        "from IPython.display import display, Markdown, clear_output\n",
        "from my_code.inference_from_user_prompt import inference_from_input\n",
        "\n",
        "# Title\n",
        "display(Markdown(\"## Transformer Language Model Demo\"))\n",
        "\n",
        "# Inputs\n",
        "prompt = w.Textarea(\n",
        "    value=\"\",\n",
        "    placeholder=\"Type your prompt here…\",\n",
        "    layout=w.Layout(width=\"100%\", height=\"140px\"),\n",
        ")\n",
        "\n",
        "btn = w.Button(\n",
        "    description=\"Generate\",\n",
        "    button_style=\"primary\",\n",
        "    layout=w.Layout(width=\"160px\", height=\"40px\"),\n",
        ")\n",
        "\n",
        "status = w.HTML(\"\")        # inline status\n",
        "out = w.Output()\n",
        "\n",
        "# Container\n",
        "card = w.VBox(\n",
        "    [\n",
        "        prompt,\n",
        "        w.HBox([btn, w.Box([status], layout=w.Layout(margin=\"0 0 0 12px\"))]),\n",
        "        out,\n",
        "    ],\n",
        "    layout=w.Layout(\n",
        "        border=\"1px solid #e6e9ef\",\n",
        "        border_radius=\"12px\",\n",
        "        padding=\"16px\",\n",
        "        background_color=\"#fafcff\",\n",
        "        width=\"100%\",\n",
        "    ),\n",
        ")\n",
        "\n",
        "def on_click(_):\n",
        "    with out:\n",
        "        clear_output(wait=True)\n",
        "        txt = prompt.value.strip()\n",
        "        if not txt:\n",
        "            status.value = \"<span style='color:#b00020;'>Please enter a prompt.</span>\"\n",
        "            return\n",
        "        status.value = \"Generating …\"\n",
        "        try:\n",
        "            result = inference_from_input(txt)\n",
        "            status.value = \"\"\n",
        "            display(Markdown(\"### Generated\"))\n",
        "            display(Markdown(f\"```\\n{result}\\n```\"))\n",
        "        except Exception:\n",
        "            status.value = \"\"\n",
        "            display(Markdown(\n",
        "                \"**Error**: generation failed. Try a shorter prompt or rerun the cell.\"\n",
        "            ))\n",
        "\n",
        "btn.on_click(on_click)\n",
        "display(card)\n"
      ]
    }
  ]
}