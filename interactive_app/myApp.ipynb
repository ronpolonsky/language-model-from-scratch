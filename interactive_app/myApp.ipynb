{
  "nbformat": 4,
  "nbformat_minor": 0,
  "metadata": {
    "colab": {
      "provenance": []
    },
    "kernelspec": {
      "name": "python3",
      "display_name": "Python 3"
    },
    "language_info": {
      "name": "python"
    }
  },
  "cells": [
    {
      "cell_type": "code",
      "execution_count": null,
      "metadata": {
        "id": "T_82y1F0vcHn"
      },
      "outputs": [],
      "source": [
        "# Minimal one-cell launcher for Colab (with Git LFS)\n",
        "!apt-get -qq update && apt-get -qq install -y git-lfs\n",
        "!git -q clone https://github.com/ronpolonsky/language-model-from-scratch.git\n",
        "%cd language-model-from-scratch\n",
        "!git lfs install && git lfs pull\n",
        "!pip -q install \"numpy<2\" -r interactive_app/requirements.txt\n",
        "!streamlit run interactive_app/myApp.py --server.headless true --server.port 7860 &\n",
        "\n",
        "from google.colab.output import eval_js\n",
        "print(eval_js(\"google.colab.kernel.proxyPort(7860, {'cache': false})\"))\n"
      ]
    }
  ]
}