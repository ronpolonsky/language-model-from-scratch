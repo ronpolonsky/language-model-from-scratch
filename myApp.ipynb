{
  "nbformat": 4,
  "nbformat_minor": 0,
  "metadata": {
    "colab": {
      "provenance": []
    },
    "kernelspec": {
      "name": "python3",
      "display_name": "Python 3"
    },
    "language_info": {
      "name": "python"
    }
  },
  "cells": [
    {
      "cell_type": "code",
      "execution_count": null,
      "metadata": {
        "id": "T_82y1F0vcHn"
      },
      "outputs": [],
      "source": [
        "# Git LFS for checkpoint\n",
        "!apt-get -y update -qq\n",
        "!apt-get -y install git-lfs -qq\n",
        "\n",
        "# Clone your repo + pull LFS files\n",
        "!git clone https://github.com/ronpolonsky/language-model-from-scratch.git\n",
        "%cd language-model-from-scratch\n",
        "!git lfs install && git lfs pull\n",
        "\n",
        "# Python deps (installed inside Colab)\n",
        "!pip -q install -r requirements.txt ipywidgets\n",
        "\n",
        "\n",
        "from IPython.display import display, Markdown, clear_output\n",
        "import ipywidgets as w\n",
        "from inference_from_user_prompt import inference_from_input\n",
        "\n",
        "prompt = w.Textarea(\n",
        "    value=\"Once upon a time,\",\n",
        "    description=\"Prompt:\",\n",
        "    layout=w.Layout(width='100%', height='120px')\n",
        ")\n",
        "run_btn = w.Button(description=\"Generate\", button_style=\"primary\")\n",
        "out = w.Output()\n",
        "\n",
        "def on_click(_):\n",
        "    with out:\n",
        "        clear_output()\n",
        "        print(\"Generating...\")\n",
        "        try:\n",
        "            text = inference_from_input(prompt.value)\n",
        "            display(Markdown(\"### Output\"))\n",
        "            print(text)\n",
        "        except Exception as e:\n",
        "            print(\"Error:\", e)\n",
        "\n",
        "run_btn.on_click(on_click)\n",
        "display(prompt, run_btn, out)\n"
      ]
    }
  ]
}